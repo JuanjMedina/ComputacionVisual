{
 "cells": [
  {
   "cell_type": "code",
   "execution_count": 4,
   "metadata": {},
   "outputs": [
    {
     "data": {
      "text/markdown": [
       "# 🔄 Conversión de Formatos 3D"
      ],
      "text/plain": [
       "<IPython.core.display.Markdown object>"
      ]
     },
     "metadata": {},
     "output_type": "display_data"
    },
    {
     "data": {
      "text/markdown": [
       "- **Directorio de datos:** `c:\\Users\\juanj\\Documents\\github\\ComputacionVisual\\2025-05-04_taller_conversion_formatos_3d\\data`"
      ],
      "text/plain": [
       "<IPython.core.display.Markdown object>"
      ]
     },
     "metadata": {},
     "output_type": "display_data"
    },
    {
     "data": {
      "text/markdown": [
       "- **Directorio de resultados:** `c:\\Users\\juanj\\Documents\\github\\ComputacionVisual\\2025-05-04_taller_conversion_formatos_3d\\resultados`"
      ],
      "text/plain": [
       "<IPython.core.display.Markdown object>"
      ]
     },
     "metadata": {},
     "output_type": "display_data"
    },
    {
     "data": {
      "text/markdown": [
       "## 📂 Cargando modelos desde `c:\\Users\\juanj\\Documents\\github\\ComputacionVisual\\2025-05-04_taller_conversion_formatos_3d\\data`"
      ],
      "text/plain": [
       "<IPython.core.display.Markdown object>"
      ]
     },
     "metadata": {},
     "output_type": "display_data"
    },
    {
     "data": {
      "text/markdown": [
       "📥 Modelo cargado: `base.obj`"
      ],
      "text/plain": [
       "<IPython.core.display.Markdown object>"
      ]
     },
     "metadata": {},
     "output_type": "display_data"
    },
    {
     "data": {
      "text/markdown": [
       "📥 Modelo cargado: `base.stl`"
      ],
      "text/plain": [
       "<IPython.core.display.Markdown object>"
      ]
     },
     "metadata": {},
     "output_type": "display_data"
    },
    {
     "data": {
      "text/markdown": [
       "📥 Modelo cargado: `base_basic_pbr.glb`"
      ],
      "text/plain": [
       "<IPython.core.display.Markdown object>"
      ]
     },
     "metadata": {},
     "output_type": "display_data"
    },
    {
     "name": "stdout",
     "output_type": "stream",
     "text": [
      "🔍 Análisis del modelo base.obj:\n",
      "- Vértices: 63960\n",
      "- Caras: 59999\n",
      "- Normales: Sí\n",
      "- Duplicados: 33955\n",
      "\n",
      "🔍 Análisis del modelo base.stl:\n",
      "- Vértices: 30005\n",
      "- Caras: 59999\n",
      "- Normales: No (No module named 'scipy')\n",
      "- Duplicados: 0\n",
      "\n",
      "🔍 Análisis del modelo base_basic_pbr.glb:\n",
      "- Vértices: 64275\n",
      "- Caras: 59999\n",
      "- Normales: No (No module named 'scipy')\n",
      "- Duplicados: 34270\n",
      "\n"
     ]
    },
    {
     "data": {
      "text/markdown": [
       "## 📊 Comparación de modelos"
      ],
      "text/plain": [
       "<IPython.core.display.Markdown object>"
      ]
     },
     "metadata": {},
     "output_type": "display_data"
    },
    {
     "data": {
      "text/html": [
       "<div>\n",
       "<style scoped>\n",
       "    .dataframe tbody tr th:only-of-type {\n",
       "        vertical-align: middle;\n",
       "    }\n",
       "\n",
       "    .dataframe tbody tr th {\n",
       "        vertical-align: top;\n",
       "    }\n",
       "\n",
       "    .dataframe thead th {\n",
       "        text-align: right;\n",
       "    }\n",
       "</style>\n",
       "<table border=\"1\" class=\"dataframe\">\n",
       "  <thead>\n",
       "    <tr style=\"text-align: right;\">\n",
       "      <th></th>\n",
       "      <th>Modelo</th>\n",
       "      <th>Vértices</th>\n",
       "      <th>Caras</th>\n",
       "      <th>Duplicados</th>\n",
       "    </tr>\n",
       "  </thead>\n",
       "  <tbody>\n",
       "    <tr>\n",
       "      <th>0</th>\n",
       "      <td>base.obj</td>\n",
       "      <td>63960</td>\n",
       "      <td>59999</td>\n",
       "      <td>33955</td>\n",
       "    </tr>\n",
       "    <tr>\n",
       "      <th>1</th>\n",
       "      <td>base.stl</td>\n",
       "      <td>30005</td>\n",
       "      <td>59999</td>\n",
       "      <td>0</td>\n",
       "    </tr>\n",
       "    <tr>\n",
       "      <th>2</th>\n",
       "      <td>base_basic_pbr.glb</td>\n",
       "      <td>64275</td>\n",
       "      <td>59999</td>\n",
       "      <td>34270</td>\n",
       "    </tr>\n",
       "  </tbody>\n",
       "</table>\n",
       "</div>"
      ],
      "text/plain": [
       "               Modelo  Vértices  Caras  Duplicados\n",
       "0            base.obj     63960  59999       33955\n",
       "1            base.stl     30005  59999           0\n",
       "2  base_basic_pbr.glb     64275  59999       34270"
      ]
     },
     "metadata": {},
     "output_type": "display_data"
    },
    {
     "data": {
      "text/markdown": [
       "📝 Resultados guardados en: `c:\\Users\\juanj\\Documents\\github\\ComputacionVisual\\2025-05-04_taller_conversion_formatos_3d\\resultados\\comparacion_modelos.csv`"
      ],
      "text/plain": [
       "<IPython.core.display.Markdown object>"
      ]
     },
     "metadata": {},
     "output_type": "display_data"
    },
    {
     "data": {
      "text/markdown": [
       "## 🔄 Conversión de formatos"
      ],
      "text/plain": [
       "<IPython.core.display.Markdown object>"
      ]
     },
     "metadata": {},
     "output_type": "display_data"
    },
    {
     "data": {
      "text/markdown": [
       "**✅ Modelo exportado como OBJ:** `c:\\Users\\juanj\\Documents\\github\\ComputacionVisual\\2025-05-04_taller_conversion_formatos_3d\\resultados\\converted_base.obj`"
      ],
      "text/plain": [
       "<IPython.core.display.Markdown object>"
      ]
     },
     "metadata": {},
     "output_type": "display_data"
    },
    {
     "data": {
      "text/markdown": [
       "**✅ Modelo exportado como STL:** `c:\\Users\\juanj\\Documents\\github\\ComputacionVisual\\2025-05-04_taller_conversion_formatos_3d\\resultados\\converted_base.stl`"
      ],
      "text/plain": [
       "<IPython.core.display.Markdown object>"
      ]
     },
     "metadata": {},
     "output_type": "display_data"
    },
    {
     "data": {
      "text/markdown": [
       "**✅ Modelo exportado como GLB:** `c:\\Users\\juanj\\Documents\\github\\ComputacionVisual\\2025-05-04_taller_conversion_formatos_3d\\resultados\\converted_base.glb`"
      ],
      "text/plain": [
       "<IPython.core.display.Markdown object>"
      ]
     },
     "metadata": {},
     "output_type": "display_data"
    },
    {
     "data": {
      "text/markdown": [
       "**✅ Modelo exportado como OBJ:** `c:\\Users\\juanj\\Documents\\github\\ComputacionVisual\\2025-05-04_taller_conversion_formatos_3d\\resultados\\converted_base.obj`"
      ],
      "text/plain": [
       "<IPython.core.display.Markdown object>"
      ]
     },
     "metadata": {},
     "output_type": "display_data"
    },
    {
     "data": {
      "text/markdown": [
       "**✅ Modelo exportado como STL:** `c:\\Users\\juanj\\Documents\\github\\ComputacionVisual\\2025-05-04_taller_conversion_formatos_3d\\resultados\\converted_base.stl`"
      ],
      "text/plain": [
       "<IPython.core.display.Markdown object>"
      ]
     },
     "metadata": {},
     "output_type": "display_data"
    },
    {
     "data": {
      "text/markdown": [
       "**✅ Modelo exportado como GLB:** `c:\\Users\\juanj\\Documents\\github\\ComputacionVisual\\2025-05-04_taller_conversion_formatos_3d\\resultados\\converted_base.glb`"
      ],
      "text/plain": [
       "<IPython.core.display.Markdown object>"
      ]
     },
     "metadata": {},
     "output_type": "display_data"
    },
    {
     "data": {
      "text/markdown": [
       "**✅ Modelo exportado como OBJ:** `c:\\Users\\juanj\\Documents\\github\\ComputacionVisual\\2025-05-04_taller_conversion_formatos_3d\\resultados\\converted_base_basic_pbr.obj`"
      ],
      "text/plain": [
       "<IPython.core.display.Markdown object>"
      ]
     },
     "metadata": {},
     "output_type": "display_data"
    },
    {
     "data": {
      "text/markdown": [
       "**✅ Modelo exportado como STL:** `c:\\Users\\juanj\\Documents\\github\\ComputacionVisual\\2025-05-04_taller_conversion_formatos_3d\\resultados\\converted_base_basic_pbr.stl`"
      ],
      "text/plain": [
       "<IPython.core.display.Markdown object>"
      ]
     },
     "metadata": {},
     "output_type": "display_data"
    },
    {
     "data": {
      "text/markdown": [
       "**✅ Modelo exportado como GLB:** `c:\\Users\\juanj\\Documents\\github\\ComputacionVisual\\2025-05-04_taller_conversion_formatos_3d\\resultados\\converted_base_basic_pbr.glb`"
      ],
      "text/plain": [
       "<IPython.core.display.Markdown object>"
      ]
     },
     "metadata": {},
     "output_type": "display_data"
    }
   ],
   "source": [
    "import trimesh\n",
    "import numpy as np\n",
    "import os\n",
    "from pathlib import Path\n",
    "import pandas as pd\n",
    "from IPython.display import display, Markdown\n",
    "\n",
    "def analizar_modelo(modelo, nombre):\n",
    "    \"\"\"Realiza un análisis básico de un modelo 3D y devuelve sus características principales\"\"\"\n",
    "    resultados = {\"Nombre\": nombre}\n",
    "    \n",
    "    # Convertir escena a malla si es necesario\n",
    "    if isinstance(modelo, trimesh.Scene):\n",
    "        if not modelo.geometry:\n",
    "            print(f\"⚠️ La escena {nombre} está vacía\")\n",
    "            return None\n",
    "        modelo = trimesh.util.concatenate([mesh for mesh in modelo.geometry.values()])\n",
    "    \n",
    "    # Extraer propiedades básicas\n",
    "    resultados[\"Vértices\"] = len(modelo.vertices)\n",
    "    resultados[\"Caras\"] = len(modelo.faces)\n",
    "    \n",
    "    # Verificar normales\n",
    "    try:\n",
    "        _ = modelo.vertex_normals\n",
    "        resultados[\"Normales\"] = \"Sí\"\n",
    "    except Exception as e:\n",
    "        resultados[\"Normales\"] = f\"No ({str(e)})\"\n",
    "    \n",
    "    # Calcular vértices duplicados\n",
    "    vertices_unicos = np.unique(modelo.vertices, axis=0)\n",
    "    duplicados = len(modelo.vertices) - len(vertices_unicos)\n",
    "    resultados[\"Duplicados\"] = duplicados\n",
    "    \n",
    "    # Mostrar resultados\n",
    "    print(f\"🔍 Análisis del modelo {nombre}:\")\n",
    "    print(f\"- Vértices: {resultados['Vértices']}\")\n",
    "    print(f\"- Caras: {resultados['Caras']}\")\n",
    "    print(f\"- Normales: {resultados['Normales']}\")\n",
    "    print(f\"- Duplicados: {resultados['Duplicados']}\")\n",
    "    print()\n",
    "    \n",
    "    return modelo, resultados\n",
    "\n",
    "\n",
    "def exportar_modelo(modelo, ruta_salida):\n",
    "    \"\"\"Exporta un modelo 3D al formato especificado por la extensión de la ruta\"\"\"\n",
    "    try:\n",
    "        # Obtener formato de la extensión\n",
    "        formato = Path(ruta_salida).suffix[1:].upper()\n",
    "        \n",
    "        # Crear directorio si no existe\n",
    "        Path(ruta_salida).parent.mkdir(parents=True, exist_ok=True)\n",
    "        \n",
    "        # Exportar modelo\n",
    "        modelo.export(ruta_salida)\n",
    "        \n",
    "        # Mostrar mensaje de éxito con emoji\n",
    "        display(Markdown(f\"**✅ Modelo exportado como {formato}:** `{ruta_salida}`\"))\n",
    "        \n",
    "    except Exception as e:\n",
    "        display(Markdown(f\"**❌ Error al exportar:** {str(e)}\"))\n",
    "\n",
    "\n",
    "def comparar_modelos(modelos_info):\n",
    "    \"\"\"Compara modelos 3D y muestra los resultados en una tabla interactiva\"\"\"\n",
    "    if not modelos_info:\n",
    "        print(\"❌ No hay modelos para comparar\")\n",
    "        return\n",
    "    \n",
    "    # Crear DataFrame para la comparación\n",
    "    datos = []\n",
    "    for modelo, info in modelos_info:\n",
    "        if isinstance(modelo, trimesh.Scene):\n",
    "            modelo = trimesh.util.concatenate([g for g in modelo.geometry.values()])\n",
    "        \n",
    "        datos.append({\n",
    "            \"Modelo\": info[\"Nombre\"],\n",
    "            \"Vértices\": len(modelo.vertices),\n",
    "            \"Caras\": len(modelo.faces),\n",
    "            \"Duplicados\": len(modelo.vertices) - len(np.unique(modelo.vertices, axis=0))\n",
    "        })\n",
    "    \n",
    "    # Crear DataFrame y mostrar\n",
    "    df = pd.DataFrame(datos)\n",
    "    display(Markdown(\"## 📊 Comparación de modelos\"))\n",
    "    display(df)\n",
    "    \n",
    "    # Guardar resultados en archivo\n",
    "    notebook_dir = Path().absolute()\n",
    "    resultados_dir = notebook_dir.parent / \"resultados\"\n",
    "    resultados_dir.mkdir(exist_ok=True)\n",
    "    \n",
    "    # Guardar como CSV\n",
    "    csv_path = resultados_dir / \"comparacion_modelos.csv\"\n",
    "    df.to_csv(csv_path, index=False)\n",
    "    \n",
    "    display(Markdown(f\"📝 Resultados guardados en: `{csv_path}`\"))\n",
    "    \n",
    "    return df\n",
    "\n",
    "\n",
    "def cargar_modelos(directorio):\n",
    "    \"\"\"Carga modelos 3D desde un directorio y devuelve una lista de modelos y sus nombres\"\"\"\n",
    "    directorio = Path(directorio)\n",
    "    modelos = []\n",
    "    nombres = []\n",
    "    \n",
    "    # Buscar archivos con extensiones de modelos 3D\n",
    "    formatos_soportados = ['.obj', '.stl', '.glb', '.gltf', '.ply', '.3ds']\n",
    "    archivos_modelo = [f for f in directorio.iterdir() if f.suffix.lower() in formatos_soportados]\n",
    "    \n",
    "    if not archivos_modelo:\n",
    "        display(Markdown(f\"⚠️ No se encontraron modelos 3D en `{directorio}`\"))\n",
    "        return [], []\n",
    "    \n",
    "    # Cargar cada modelo\n",
    "    display(Markdown(f\"## 📂 Cargando modelos desde `{directorio}`\"))\n",
    "    \n",
    "    for archivo in archivos_modelo:\n",
    "        try:\n",
    "            modelo = trimesh.load(archivo)\n",
    "            modelos.append(modelo)\n",
    "            nombres.append(archivo.name)\n",
    "            display(Markdown(f\"📥 Modelo cargado: `{archivo.name}`\"))\n",
    "        except Exception as e:\n",
    "            display(Markdown(f\"❌ Error al cargar `{archivo.name}`: {str(e)}\"))\n",
    "    \n",
    "    return modelos, nombres\n",
    "\n",
    "\n",
    "# ---------- EJECUCIÓN PRINCIPAL ----------\n",
    "\n",
    "# Configurar rutas\n",
    "notebook_dir = Path().absolute()\n",
    "data_dir = notebook_dir.parent / 'data'\n",
    "output_dir = notebook_dir.parent / 'resultados'\n",
    "\n",
    "# Crear directorio de salida\n",
    "output_dir.mkdir(exist_ok=True)\n",
    "\n",
    "display(Markdown(f\"# 🔄 Conversión de Formatos 3D\"))\n",
    "display(Markdown(f\"- **Directorio de datos:** `{data_dir}`\"))\n",
    "display(Markdown(f\"- **Directorio de resultados:** `{output_dir}`\"))\n",
    "\n",
    "# Cargar modelos\n",
    "modelos, nombres = cargar_modelos(data_dir)\n",
    "\n",
    "# Analizar modelos\n",
    "resultados = []\n",
    "modelos_analizados = []\n",
    "\n",
    "for modelo, nombre in zip(modelos, nombres):\n",
    "    resultado = analizar_modelo(modelo, nombre)\n",
    "    if resultado:\n",
    "        modelos_analizados.append(resultado[0])\n",
    "        resultados.append(resultado)\n",
    "\n",
    "# Comparar modelos\n",
    "if resultados:\n",
    "    comparacion_df = comparar_modelos(resultados)\n",
    "\n",
    "    # Exportar modelos a diferentes formatos\n",
    "    display(Markdown(\"## 🔄 Conversión de formatos\"))\n",
    "    \n",
    "    for modelo, info in resultados:\n",
    "        base_nombre = Path(info[\"Nombre\"]).stem\n",
    "        \n",
    "        # Exportar a diferentes formatos\n",
    "        for formato in ['.obj', '.stl', '.glb']:\n",
    "            ruta_salida = output_dir / f\"converted_{base_nombre}{formato}\"\n",
    "            exportar_modelo(modelo, ruta_salida)\n",
    "else:\n",
    "    display(Markdown(\"❌ No se pudieron analizar los modelos\"))\n"
   ]
  }
 ],
 "metadata": {
  "kernelspec": {
   "display_name": "Python 3",
   "language": "python",
   "name": "python3"
  },
  "language_info": {
   "codemirror_mode": {
    "name": "ipython",
    "version": 3
   },
   "file_extension": ".py",
   "mimetype": "text/x-python",
   "name": "python",
   "nbconvert_exporter": "python",
   "pygments_lexer": "ipython3",
   "version": "3.10.9"
  }
 },
 "nbformat": 4,
 "nbformat_minor": 2
}
